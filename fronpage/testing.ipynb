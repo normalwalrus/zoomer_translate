{
 "cells": [
  {
   "cell_type": "code",
   "execution_count": 1,
   "metadata": {},
   "outputs": [],
   "source": [
    "import csv\n",
    "import os\n",
    "\n",
    "options = []\n",
    "with open(os.getcwd() + '/data/options.csv', newline='') as csvfile:\n",
    "    reader = csv.reader(csvfile)\n",
    "    for row in reader:\n",
    "        options.append(row)"
   ]
  },
  {
   "cell_type": "code",
   "execution_count": 7,
   "metadata": {},
   "outputs": [],
   "source": [
    "import pandas as pd\n",
    "import random\n",
    "\n",
    "file_location = os.getcwd() + '/data/filtered_selections.csv'\n",
    "\n",
    "df = pd.read_csv(file_location)\n",
    "\n",
    "# Function to generate random number from 1 to 100\n",
    "def generate_random_number():\n",
    "    return random.randint(1, 10)\n",
    "\n",
    "# Apply the function to columns 1, 2, and 3 for all rows\n",
    "df.iloc[:, 1] = df.iloc[:, 1].apply(lambda x: generate_random_number())\n",
    "df.iloc[:, 2] = df.iloc[:, 2].apply(lambda x: generate_random_number())\n",
    "df.iloc[:, 3] = df.iloc[:, 3].apply(lambda x: generate_random_number())\n",
    "\n",
    "# Save the updated dataframe to a new CSV file\n",
    "df.to_csv(file_location, index=False)"
   ]
  },
  {
   "cell_type": "code",
   "execution_count": null,
   "metadata": {},
   "outputs": [],
   "source": []
  }
 ],
 "metadata": {
  "kernelspec": {
   "display_name": "Python 3",
   "language": "python",
   "name": "python3"
  },
  "language_info": {
   "codemirror_mode": {
    "name": "ipython",
    "version": 3
   },
   "file_extension": ".py",
   "mimetype": "text/x-python",
   "name": "python",
   "nbconvert_exporter": "python",
   "pygments_lexer": "ipython3",
   "version": "3.12.2"
  }
 },
 "nbformat": 4,
 "nbformat_minor": 2
}
